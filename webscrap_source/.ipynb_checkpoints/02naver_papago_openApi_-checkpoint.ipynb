{
 "cells": [
  {
   "cell_type": "markdown",
   "id": "9e0c7aa6-741b-4d2d-a343-5822d7be9e26",
   "metadata": {},
   "source": [
    "# Urllib을 이용한 Papago 번역 API 예제"
   ]
  },
  {
   "cell_type": "code",
   "execution_count": 18,
   "id": "a1748f5b-5ed3-427f-83b3-46694041db28",
   "metadata": {},
   "outputs": [
    {
     "name": "stdout",
     "output_type": "stream",
     "text": [
      "{\"message\":{\"@type\":\"response\",\"@service\":\"naverservice.nmt.proxy\",\"@version\":\"1.0.0\",\"result\":{\"srcLangType\":\"en\",\"tarLangType\":\"ko\",\"translatedText\":\"어제는 내 모든 고민이 너무 멀리 있는 것 같았어.\",\"engineType\":\"N2MT\",\"pivot\":null}}}\n"
     ]
    }
   ],
   "source": [
    "import os\n",
    "import sys\n",
    "import urllib.request\n",
    "client_id = \"jeliINzxk4Ul5IhPVYMa\" # 개발자센터에서 발급받은 Client ID 값\n",
    "client_secret = \"qGMGbhQy93\" # 개발자센터에서 발급받은 Client Secret 값\n",
    "encText = urllib.parse.quote(\"Yesterday all my troubles seemed so far away.\")\n",
    "data = \"source=en&target=ko&text=\" + encText\n",
    "url = \"https://openapi.naver.com/v1/papago/n2mt\"\n",
    "\n",
    "request = urllib.request.Request(url)\n",
    "request.add_header(\"X-Naver-Client-Id\",client_id)\n",
    "request.add_header(\"X-Naver-Client-Secret\",client_secret)\n",
    "response = urllib.request.urlopen(request, data=data.encode(\"utf-8\"))\n",
    "rescode = response.getcode()\n",
    "if(rescode==200):\n",
    "    response_body = response.read()\n",
    "    print(response_body.decode('utf-8'))\n",
    "else:\n",
    "    print(\"Error Code:\" + rescode)"
   ]
  },
  {
   "cell_type": "markdown",
   "id": "2c62cfdc-328e-4ccc-bd56-5210ebba7c0e",
   "metadata": {},
   "source": [
    "### Requests를 사용한 Papago 번역 API 예제"
   ]
  },
  {
   "cell_type": "code",
   "execution_count": 24,
   "id": "79f2f167-a127-4b4f-974f-df535441c01e",
   "metadata": {},
   "outputs": [
    {
     "name": "stdout",
     "output_type": "stream",
     "text": [
      "어제는 내 모든 고민이 너무 멀리 있는 것 같았어.\n",
      "이제 그들은 여기 머물려고 온 것처럼 보인다.\n",
      "오, 나는 어제를 다시 그리게 돼.\n",
      "\n",
      "갑자기 나는 예전의 절반도 되지 않았다.\n",
      "그림자가 드리워져 있어요.\n",
      "아, 어제가 갑자기 왔네요.\n",
      "\n",
      "왜 그녀가 가야만 했는지, 모르겠어요, 그녀는 말하려 하지 않았어요.\n",
      "내가 잘못 말했는데, 어제가 그리워요.\n",
      "\n",
      "어제는 사랑이 정말 쉬운 게임이었다.\n",
      "이제 숨을 곳이 필요해\n",
      "오, 나는 어제를 다시 그리게 돼.\n",
      "\n",
      "왜 그녀가 가야만 했는지, 모르겠어요, 그녀는 말하려 하지 않았어요.\n",
      "내가 잘못 말했는데, 어제가 그리워요.\n",
      "\n",
      "어제는 사랑이 정말 쉬운 게임이었다.\n",
      "이제 숨을 곳이 필요해\n",
      "오, 나는 어제를 다시 그리게 돼.\n",
      "\n",
      "mm mm mm mm mm mm\n"
     ]
    }
   ],
   "source": [
    "import requests\n",
    "\n",
    "client_id = \"jeliINzxk4Ul5IhPVYMa\" # 개발자센터에서 발급받은 Client ID 값\n",
    "client_secret = \"qGMGbhQy93\" # 개발자센터에서 발급받은 Client Secret 값\n",
    "url = \"https://openapi.naver.com/v1/papago/n2mt\"\n",
    "source_Text =\"Yesterday all my troubles seemed so far away.\"\n",
    "\n",
    "f = open(\"data/yesterday.txt\", 'r')\n",
    "data = f.read()\n",
    "#print(data)\n",
    "f.close()\n",
    "yesterday_text = data\n",
    "\n",
    "#요청헤더\n",
    "req_header = {\"X-Naver-Client-Id\":client_id,\"X-Naver-Client-Secret\":client_secret}\n",
    "#print(req_header)\n",
    "#요청 파라미터\n",
    "#req_param ={\"source\":\"en\",\"target\":\"ko\",\"text\":source_Text}\n",
    "req_param ={\"source\":\"en\",\"target\":\"ko\",\"text\":yesterday_text}\n",
    "#print(req_param)\n",
    "\n",
    "#papago OpenAPI의 post()함수\n",
    "res =requests.post(url,headers = req_header,data = req_param)\n",
    "#print(res.status_code, res.ok)\n",
    "if res.ok:\n",
    "    #print(res.text)\n",
    "    #print(type(res.json()),res.json()) #json으로 해서 dict형식으로 자료형 바꿈\n",
    "    trans_txt = res.json()['message']['result']['translatedText']\n",
    "    print(trans_txt)\n",
    "else:\n",
    "    print('Error code'. res.status_code)\n"
   ]
  },
  {
   "cell_type": "code",
   "execution_count": 21,
   "id": "ff87f96a-14cd-47f8-8280-463dab10ad00",
   "metadata": {},
   "outputs": [
    {
     "name": "stdout",
     "output_type": "stream",
     "text": [
      "Yesterday all my troubles seemed so far away.\n",
      "Now it looks as though they're here to stay.\n",
      "Oh, I believe in yesterday.\n",
      "\n",
      "Suddenly I'm not half the man I used to be.\n",
      "There's a shadow hanging over me.\n",
      "Oh, yesterday came suddenly.\n",
      "\n",
      "Why she had to go, I don't know, she wouldn't say.\n",
      "I said something wrong, now I long for yesterday.\n",
      "\n",
      "Yesterday love was such an easy game to play.\n",
      "Now I need a place to hide away.\n",
      "Oh, I believe in yesterday.\n",
      "\n",
      "Why she had to go, I don't know, she wouldn't say.\n",
      "I said something wrong, now I long for yesterday.\n",
      "\n",
      "Yesterday love was such an easy game to play.\n",
      "Now I need a place to hide away.\n",
      "Oh, I believe in yesterday.\n",
      "\n",
      "Mm mm mm mm mm mm mm\n",
      "<class 'str'>\n"
     ]
    }
   ],
   "source": [
    "f = open(\"data/yesterday.txt\", 'r')\n",
    "data = f.read()\n",
    "print(data)\n",
    "f.close()\n",
    "print(type(data))"
   ]
  }
 ],
 "metadata": {
  "kernelspec": {
   "display_name": "Python 3 (ipykernel)",
   "language": "python",
   "name": "python3"
  },
  "language_info": {
   "codemirror_mode": {
    "name": "ipython",
    "version": 3
   },
   "file_extension": ".py",
   "mimetype": "text/x-python",
   "name": "python",
   "nbconvert_exporter": "python",
   "pygments_lexer": "ipython3",
   "version": "3.9.7"
  }
 },
 "nbformat": 4,
 "nbformat_minor": 5
}
